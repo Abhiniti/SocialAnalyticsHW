{
 "cells": [
  {
   "cell_type": "code",
   "execution_count": 1,
   "metadata": {},
   "outputs": [],
   "source": [
    "# Dependencies\n",
    "import pandas as pd\n",
    "import numpy as np\n",
    "import matplotlib.pyplot as plt\n",
    "import json\n",
    "import tweepy \n",
    "import datetime\n",
    "\n",
    "import matplotlib.dates as mdates\n",
    "import matplotlib.cbook as cbook\n",
    "\n",
    "# Import and Initialize Sentiment Analyzer\n",
    "from vaderSentiment.vaderSentiment import SentimentIntensityAnalyzer\n",
    "analyzer = SentimentIntensityAnalyzer()\n",
    "\n",
    "# Import Twitter API Keys\n",
    "from config import consumer_key, consumer_secret, access_token, access_token_secret\n",
    "\n",
    "# Setup Tweepy API Authentication\n",
    "auth = tweepy.OAuthHandler(consumer_key, consumer_secret)\n",
    "auth.set_access_token(access_token, access_token_secret)\n",
    "api = tweepy.API(auth, parser=tweepy.parsers.JSONParser())"
   ]
  },
  {
   "cell_type": "code",
   "execution_count": 18,
   "metadata": {},
   "outputs": [],
   "source": [
    "target_users = [\"BBC\",\"CBS\",\"CNN\",\"FoxNews\",\"nytimes\"]\n",
    "user_name = []\n",
    "compound = []\n",
    "pos = []\n",
    "neg = []\n",
    "neu = []\n",
    "time = []\n",
    "tweetsago = []\n",
    "\n",
    "for user in target_users:\n",
    "    public_tweets = api.user_timeline(user,count=100)\n",
    "    counter = 1\n",
    "    for tweet in public_tweets:\n",
    "        #print(json.dumps(tweet, sort_keys=True, indent=4))\n",
    "        user_name.append(tweet[\"user\"][\"name\"])\n",
    "        results = analyzer.polarity_scores(str(tweet[\"text\"]))\n",
    "        compound.append(results[\"compound\"])\n",
    "        pos.append(results[\"pos\"])\n",
    "        neg.append(results[\"neg\"])\n",
    "        neu.append(results[\"neu\"])\n",
    "        time.append(tweet[\"created_at\"])\n",
    "        tweetsago.append(counter)\n",
    "        counter += 1"
   ]
  },
  {
   "cell_type": "code",
   "execution_count": 25,
   "metadata": {},
   "outputs": [],
   "source": [
    "news_info = pd.DataFrame({\"Username\" : user_name, \"Compound Score\" : compound, \"Positive Score\" : pos,\"Negative Score\" : neg, \"Neutral Score\" : neu,\"Time Posted\" : time, \"Tweets Ago\" : tweetsago})\n",
    "news_info = news_info.sort_values(by=[\"Time Posted\"],ascending=False)\n",
    "news_info.to_csv(\"TotalNewsInfo.csv\", index = False, header = True)"
   ]
  },
  {
   "cell_type": "code",
   "execution_count": null,
   "metadata": {},
   "outputs": [],
   "source": []
  }
 ],
 "metadata": {
  "kernelspec": {
   "display_name": "Python [conda env:PythonData]",
   "language": "python",
   "name": "conda-env-PythonData-py"
  },
  "language_info": {
   "codemirror_mode": {
    "name": "ipython",
    "version": 3
   },
   "file_extension": ".py",
   "mimetype": "text/x-python",
   "name": "python",
   "nbconvert_exporter": "python",
   "pygments_lexer": "ipython3",
   "version": "3.6.5"
  }
 },
 "nbformat": 4,
 "nbformat_minor": 2
}
